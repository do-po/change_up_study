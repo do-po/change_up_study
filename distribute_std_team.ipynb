{
 "cells": [
  {
   "cell_type": "markdown",
   "metadata": {},
   "source": [
    "### 랜덤으로 조 2명씩 섞기\n",
    "    - 전부 랜덤으로 돌리니까 3:1로 섞이는 경우 많아서 2명 추출해서 섞기로 했어요 :>\n",
    "    - 섞은 후 일정 괜찮은지, 불참인원 2명이상 발생하면 다시 섞기로 했습니다\n",
    "    - 랜덤랜덤"
   ]
  },
  {
   "cell_type": "code",
   "execution_count": 1,
   "metadata": {},
   "outputs": [],
   "source": [
    "# 필요한 모듈 로드\n",
    "import random"
   ]
  },
  {
   "cell_type": "code",
   "execution_count": 3,
   "metadata": {},
   "outputs": [],
   "source": [
    "# 팀 구성방식 정의\n",
    "def team_swap(team_A, team_B, schedule):\n",
    "    # 각 팀에서 일요일 참여 가능한 사람만 추출\n",
    "    eligible_A = [member for member in team_A if schedule.get(member, False)]\n",
    "    eligible_B = [member for member in team_B if schedule.get(member, False)]\n",
    "    \n",
    "    # 가능한 사람이 2명 이상이어야 교환 진행\n",
    "    if len(eligible_A) >= 2 and len(eligible_B) >= 2:\n",
    "        a_to_b = random.sample(eligible_A, 2)\n",
    "        b_to_a = random.sample(eligible_B, 2)\n",
    "        \n",
    "        # 교환 진행\n",
    "        for member in a_to_b:\n",
    "            team_A.remove(member)\n",
    "            team_B.append(member)\n",
    "        \n",
    "        for member in b_to_a:\n",
    "            team_B.remove(member)\n",
    "            team_A.append(member)\n",
    "    \n",
    "    return team_A, team_B"
   ]
  },
  {
   "cell_type": "markdown",
   "metadata": {},
   "source": [
    "#### 수정해야 하는 부분\n",
    "    - 일정 데이터 받은 이후 T/F로 진행 혹은 일정에 따른 조건문 타임스탬프 타입으로 받도록 위 조건문 수정하기\n",
    "        - 근데 조건문 수정은 너무 귀찮은 일이니깐 그런 경우가 있을 때 수정해보자\n",
    "    - 기존 팀 받아오는 방식으로 아래 team 부분 수정\n",
    "        - 이것도 다음번에 하는걸로 :>"
   ]
  },
  {
   "cell_type": "code",
   "execution_count": 4,
   "metadata": {},
   "outputs": [],
   "source": [
    "# 기존 팀원과 일정 데이터\n",
    "schedule = {\n",
    "    \"박성훈\": True,  # 일요일 가능\n",
    "    \"유동선\": True,  # 일요일 가능\n",
    "    \"임지현\": True,  # 일요일 오후 2시 이전 가능 (4시 전까지 참여가능)\n",
    "    \"최진영\": True,  # 일요일 오후 2시 이전\n",
    "    \"김남인\": True,  # 일요일 가능\n",
    "    \"주민호\": True,  # 일요일 가능\n",
    "    \"임유진\": True,  # 일요일 가능\n",
    "    \"정채윤\": False  # 일요일 불가능\n",
    "}\n",
    "\n",
    "team_A = [\"박성훈\", \"유동선\", \"임지현\", \"최진영\"]\n",
    "team_B = [\"김남인\", \"주민호\", \"임유진\", \"정채윤\"]"
   ]
  },
  {
   "cell_type": "code",
   "execution_count": 9,
   "metadata": {},
   "outputs": [
    {
     "name": "stdout",
     "output_type": "stream",
     "text": [
      "New Team A: ['임유진', '임지현', '주민호', '김남인']\n",
      "New Team B: ['정채윤', '최진영', '유동선', '박성훈']\n"
     ]
    }
   ],
   "source": [
    "new_team_A, new_team_B = team_swap(team_A, team_B, schedule)\n",
    "\n",
    "print(\"New Team A:\", new_team_A)\n",
    "print(\"New Team B:\", new_team_B)"
   ]
  }
 ],
 "metadata": {
  "kernelspec": {
   "display_name": "Python 3",
   "language": "python",
   "name": "python3"
  },
  "language_info": {
   "codemirror_mode": {
    "name": "ipython",
    "version": 3
   },
   "file_extension": ".py",
   "mimetype": "text/x-python",
   "name": "python",
   "nbconvert_exporter": "python",
   "pygments_lexer": "ipython3",
   "version": "3.12.2"
  }
 },
 "nbformat": 4,
 "nbformat_minor": 2
}
